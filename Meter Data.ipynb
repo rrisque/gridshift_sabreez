{
 "cells": [
  {
   "cell_type": "markdown",
   "metadata": {},
   "source": [
    "# Load interval data"
   ]
  },
  {
   "cell_type": "code",
   "execution_count": 1,
   "metadata": {},
   "outputs": [
    {
     "name": "stdout",
     "output_type": "stream",
     "text": [
      "Requirement already satisfied: pandas in ./env/lib/python3.8/site-packages (1.0.0)\n",
      "Requirement already satisfied: matplotlib in ./env/lib/python3.8/site-packages (3.1.2)\n",
      "Requirement already satisfied: tqdm in ./env/lib/python3.8/site-packages (4.42.0)\n",
      "Requirement already satisfied: numpy>=1.13.3 in /usr/lib/python3.8/site-packages (from pandas) (1.18.1)\n",
      "Requirement already satisfied: python-dateutil>=2.6.1 in /usr/lib/python3.8/site-packages (from pandas) (2.8.1)\n",
      "Requirement already satisfied: pytz>=2017.2 in ./env/lib/python3.8/site-packages (from pandas) (2019.3)\n",
      "Requirement already satisfied: cycler>=0.10 in ./env/lib/python3.8/site-packages (from matplotlib) (0.10.0)\n",
      "Requirement already satisfied: kiwisolver>=1.0.1 in ./env/lib/python3.8/site-packages (from matplotlib) (1.1.0)\n",
      "Requirement already satisfied: pyparsing!=2.0.4,!=2.1.2,!=2.1.6,>=2.0.1 in /usr/lib/python3.8/site-packages (from matplotlib) (2.4.6)\n",
      "Requirement already satisfied: six>=1.5 in /usr/lib/python3.8/site-packages (from python-dateutil>=2.6.1->pandas) (1.14.0)\n",
      "Requirement already satisfied: setuptools in ./env/lib/python3.8/site-packages (from kiwisolver>=1.0.1->matplotlib) (41.2.0)\n"
     ]
    }
   ],
   "source": [
    "!pip install pandas matplotlib tqdm\n",
    "import pandas\n",
    "import matplotlib.pyplot as plt\n",
    "from tqdm import tqdm"
   ]
  },
  {
   "cell_type": "code",
   "execution_count": 2,
   "metadata": {},
   "outputs": [],
   "source": [
    "frame = pandas.read_csv('bulk_intervals_3000.csv')"
   ]
  },
  {
   "cell_type": "code",
   "execution_count": 3,
   "metadata": {},
   "outputs": [],
   "source": [
    "frame['start'] = pandas.to_datetime(frame['start'], unit='s')"
   ]
  },
  {
   "cell_type": "code",
   "execution_count": 4,
   "metadata": {},
   "outputs": [
    {
     "data": {
      "text/html": [
       "<div>\n",
       "<style scoped>\n",
       "    .dataframe tbody tr th:only-of-type {\n",
       "        vertical-align: middle;\n",
       "    }\n",
       "\n",
       "    .dataframe tbody tr th {\n",
       "        vertical-align: top;\n",
       "    }\n",
       "\n",
       "    .dataframe thead th {\n",
       "        text-align: right;\n",
       "    }\n",
       "</style>\n",
       "<table border=\"1\" class=\"dataframe\">\n",
       "  <thead>\n",
       "    <tr style=\"text-align: right;\">\n",
       "      <th></th>\n",
       "      <th>meter_uid</th>\n",
       "      <th>start</th>\n",
       "      <th>duration</th>\n",
       "      <th>kwh</th>\n",
       "    </tr>\n",
       "  </thead>\n",
       "  <tbody>\n",
       "    <tr>\n",
       "      <th>0</th>\n",
       "      <td>919</td>\n",
       "      <td>2018-01-23 16:00:00</td>\n",
       "      <td>3600</td>\n",
       "      <td>0.80</td>\n",
       "    </tr>\n",
       "    <tr>\n",
       "      <th>1</th>\n",
       "      <td>919</td>\n",
       "      <td>2018-01-23 17:00:00</td>\n",
       "      <td>3600</td>\n",
       "      <td>0.64</td>\n",
       "    </tr>\n",
       "    <tr>\n",
       "      <th>2</th>\n",
       "      <td>919</td>\n",
       "      <td>2018-01-23 18:00:00</td>\n",
       "      <td>3600</td>\n",
       "      <td>0.80</td>\n",
       "    </tr>\n",
       "    <tr>\n",
       "      <th>3</th>\n",
       "      <td>919</td>\n",
       "      <td>2018-01-23 19:00:00</td>\n",
       "      <td>3600</td>\n",
       "      <td>0.61</td>\n",
       "    </tr>\n",
       "    <tr>\n",
       "      <th>4</th>\n",
       "      <td>919</td>\n",
       "      <td>2018-01-23 20:00:00</td>\n",
       "      <td>3600</td>\n",
       "      <td>1.13</td>\n",
       "    </tr>\n",
       "    <tr>\n",
       "      <th>...</th>\n",
       "      <td>...</td>\n",
       "      <td>...</td>\n",
       "      <td>...</td>\n",
       "      <td>...</td>\n",
       "    </tr>\n",
       "    <tr>\n",
       "      <th>79530732</th>\n",
       "      <td>5774</td>\n",
       "      <td>2020-01-19 11:00:00</td>\n",
       "      <td>3600</td>\n",
       "      <td>0.34</td>\n",
       "    </tr>\n",
       "    <tr>\n",
       "      <th>79530733</th>\n",
       "      <td>5774</td>\n",
       "      <td>2020-01-19 12:00:00</td>\n",
       "      <td>3600</td>\n",
       "      <td>0.34</td>\n",
       "    </tr>\n",
       "    <tr>\n",
       "      <th>79530734</th>\n",
       "      <td>5774</td>\n",
       "      <td>2020-01-19 13:00:00</td>\n",
       "      <td>3600</td>\n",
       "      <td>0.34</td>\n",
       "    </tr>\n",
       "    <tr>\n",
       "      <th>79530735</th>\n",
       "      <td>5774</td>\n",
       "      <td>2020-01-19 14:00:00</td>\n",
       "      <td>3600</td>\n",
       "      <td>0.34</td>\n",
       "    </tr>\n",
       "    <tr>\n",
       "      <th>79530736</th>\n",
       "      <td>5774</td>\n",
       "      <td>2020-01-19 15:00:00</td>\n",
       "      <td>3600</td>\n",
       "      <td>0.34</td>\n",
       "    </tr>\n",
       "  </tbody>\n",
       "</table>\n",
       "<p>79530737 rows × 4 columns</p>\n",
       "</div>"
      ],
      "text/plain": [
       "          meter_uid               start  duration   kwh\n",
       "0               919 2018-01-23 16:00:00      3600  0.80\n",
       "1               919 2018-01-23 17:00:00      3600  0.64\n",
       "2               919 2018-01-23 18:00:00      3600  0.80\n",
       "3               919 2018-01-23 19:00:00      3600  0.61\n",
       "4               919 2018-01-23 20:00:00      3600  1.13\n",
       "...             ...                 ...       ...   ...\n",
       "79530732       5774 2020-01-19 11:00:00      3600  0.34\n",
       "79530733       5774 2020-01-19 12:00:00      3600  0.34\n",
       "79530734       5774 2020-01-19 13:00:00      3600  0.34\n",
       "79530735       5774 2020-01-19 14:00:00      3600  0.34\n",
       "79530736       5774 2020-01-19 15:00:00      3600  0.34\n",
       "\n",
       "[79530737 rows x 4 columns]"
      ]
     },
     "execution_count": 4,
     "metadata": {},
     "output_type": "execute_result"
    }
   ],
   "source": [
    "frame"
   ]
  },
  {
   "cell_type": "markdown",
   "metadata": {},
   "source": [
    "# Group by meter ID, starting time"
   ]
  },
  {
   "cell_type": "code",
   "execution_count": 5,
   "metadata": {},
   "outputs": [],
   "source": [
    "frame = frame.set_index(['meter_uid', 'start'])"
   ]
  },
  {
   "cell_type": "code",
   "execution_count": 6,
   "metadata": {},
   "outputs": [
    {
     "data": {
      "text/html": [
       "<div>\n",
       "<style scoped>\n",
       "    .dataframe tbody tr th:only-of-type {\n",
       "        vertical-align: middle;\n",
       "    }\n",
       "\n",
       "    .dataframe tbody tr th {\n",
       "        vertical-align: top;\n",
       "    }\n",
       "\n",
       "    .dataframe thead th {\n",
       "        text-align: right;\n",
       "    }\n",
       "</style>\n",
       "<table border=\"1\" class=\"dataframe\">\n",
       "  <thead>\n",
       "    <tr style=\"text-align: right;\">\n",
       "      <th></th>\n",
       "      <th></th>\n",
       "      <th>duration</th>\n",
       "      <th>kwh</th>\n",
       "    </tr>\n",
       "    <tr>\n",
       "      <th>meter_uid</th>\n",
       "      <th>start</th>\n",
       "      <th></th>\n",
       "      <th></th>\n",
       "    </tr>\n",
       "  </thead>\n",
       "  <tbody>\n",
       "    <tr>\n",
       "      <th rowspan=\"5\" valign=\"top\">919</th>\n",
       "      <th>2018-01-23 16:00:00</th>\n",
       "      <td>3600</td>\n",
       "      <td>0.80</td>\n",
       "    </tr>\n",
       "    <tr>\n",
       "      <th>2018-01-23 17:00:00</th>\n",
       "      <td>3600</td>\n",
       "      <td>0.64</td>\n",
       "    </tr>\n",
       "    <tr>\n",
       "      <th>2018-01-23 18:00:00</th>\n",
       "      <td>3600</td>\n",
       "      <td>0.80</td>\n",
       "    </tr>\n",
       "    <tr>\n",
       "      <th>2018-01-23 19:00:00</th>\n",
       "      <td>3600</td>\n",
       "      <td>0.61</td>\n",
       "    </tr>\n",
       "    <tr>\n",
       "      <th>2018-01-23 20:00:00</th>\n",
       "      <td>3600</td>\n",
       "      <td>1.13</td>\n",
       "    </tr>\n",
       "    <tr>\n",
       "      <th>...</th>\n",
       "      <th>...</th>\n",
       "      <td>...</td>\n",
       "      <td>...</td>\n",
       "    </tr>\n",
       "    <tr>\n",
       "      <th rowspan=\"5\" valign=\"top\">5774</th>\n",
       "      <th>2020-01-19 11:00:00</th>\n",
       "      <td>3600</td>\n",
       "      <td>0.34</td>\n",
       "    </tr>\n",
       "    <tr>\n",
       "      <th>2020-01-19 12:00:00</th>\n",
       "      <td>3600</td>\n",
       "      <td>0.34</td>\n",
       "    </tr>\n",
       "    <tr>\n",
       "      <th>2020-01-19 13:00:00</th>\n",
       "      <td>3600</td>\n",
       "      <td>0.34</td>\n",
       "    </tr>\n",
       "    <tr>\n",
       "      <th>2020-01-19 14:00:00</th>\n",
       "      <td>3600</td>\n",
       "      <td>0.34</td>\n",
       "    </tr>\n",
       "    <tr>\n",
       "      <th>2020-01-19 15:00:00</th>\n",
       "      <td>3600</td>\n",
       "      <td>0.34</td>\n",
       "    </tr>\n",
       "  </tbody>\n",
       "</table>\n",
       "<p>79530737 rows × 2 columns</p>\n",
       "</div>"
      ],
      "text/plain": [
       "                               duration   kwh\n",
       "meter_uid start                              \n",
       "919       2018-01-23 16:00:00      3600  0.80\n",
       "          2018-01-23 17:00:00      3600  0.64\n",
       "          2018-01-23 18:00:00      3600  0.80\n",
       "          2018-01-23 19:00:00      3600  0.61\n",
       "          2018-01-23 20:00:00      3600  1.13\n",
       "...                                 ...   ...\n",
       "5774      2020-01-19 11:00:00      3600  0.34\n",
       "          2020-01-19 12:00:00      3600  0.34\n",
       "          2020-01-19 13:00:00      3600  0.34\n",
       "          2020-01-19 14:00:00      3600  0.34\n",
       "          2020-01-19 15:00:00      3600  0.34\n",
       "\n",
       "[79530737 rows x 2 columns]"
      ]
     },
     "execution_count": 6,
     "metadata": {},
     "output_type": "execute_result"
    }
   ],
   "source": [
    "frame"
   ]
  },
  {
   "cell_type": "markdown",
   "metadata": {},
   "source": []
  },
  {
   "cell_type": "markdown",
   "metadata": {},
   "source": [
    "# Plot data"
   ]
  },
  {
   "cell_type": "code",
   "execution_count": 25,
   "metadata": {},
   "outputs": [
    {
     "name": "stderr",
     "output_type": "stream",
     "text": [
      "  0%|          | 0/3101 [00:01<?, ?it/s]"
     ]
    },
    {
     "name": "stdout",
     "output_type": "stream",
     "text": [
      "       meter_uid               start  duration   kwh    datetime  hour\n",
      "0            919 2018-01-23 16:00:00      3600  0.80  2018-01-23    16\n",
      "1            919 2018-01-23 17:00:00      3600  0.64  2018-01-23    17\n",
      "2            919 2018-01-23 18:00:00      3600  0.80  2018-01-23    18\n",
      "3            919 2018-01-23 19:00:00      3600  0.61  2018-01-23    19\n",
      "4            919 2018-01-23 20:00:00      3600  1.13  2018-01-23    20\n",
      "...          ...                 ...       ...   ...         ...   ...\n",
      "17393        919 2020-01-19 11:00:00      3600  0.78  2020-01-19    11\n",
      "17394        919 2020-01-19 12:00:00      3600  0.51  2020-01-19    12\n",
      "17395        919 2020-01-19 13:00:00      3600  0.61  2020-01-19    13\n",
      "17396        919 2020-01-19 14:00:00      3600  0.74  2020-01-19    14\n",
      "17397        919 2020-01-19 15:00:00      3600  0.48  2020-01-19    15\n",
      "\n",
      "[17398 rows x 6 columns]\n",
      "                       kwh\n",
      "meter_uid datetime        \n",
      "919       2018-01-23  0.80\n",
      "          2018-01-23  0.64\n",
      "          2018-01-23  0.80\n",
      "          2018-01-23  0.61\n",
      "          2018-01-23  1.13\n",
      "...                    ...\n",
      "          2020-01-19  0.78\n",
      "          2020-01-19  0.51\n",
      "          2020-01-19  0.61\n",
      "          2020-01-19  0.74\n",
      "          2020-01-19  0.48\n",
      "\n",
      "[17398 rows x 1 columns]\n"
     ]
    },
    {
     "name": "stderr",
     "output_type": "stream",
     "text": [
      "\n"
     ]
    }
   ],
   "source": [
    "import datetime as dt\n",
    "for meter, sub_frame in tqdm(frame.groupby(level=0)):\n",
    "    sub_frame = sub_frame.reset_index()\n",
    "    sub_frame['datetime'] = sub_frame['start'].dt.date\n",
    "    sub_frame['hour'] = sub_frame['start'].dt.hour\n",
    "    sub_frame['datetime'] += panda sub_frame['hour']\n",
    "    print(sub_frame)\n",
    "    del sub_frame['hour']\n",
    "    sub_frame['datetime'] = pandas.to_datetime(sub_frame['datetime'])\n",
    "    del sub_frame['start']\n",
    "    del sub_frame['duration']\n",
    "    sub_frame = sub_frame.set_index(['meter_uid', 'datetime'])\n",
    "    print(sub_frame)\n",
    "    break"
   ]
  },
  {
   "cell_type": "markdown",
   "metadata": {},
   "source": []
  },
  {
   "cell_type": "code",
   "execution_count": 8,
   "metadata": {},
   "outputs": [
    {
     "name": "stderr",
     "output_type": "stream",
     "text": [
      "WARNING:root:Limited tf.compat.v2.summary API due to missing TensorBoard installation.\n",
      "WARNING:root:Limited tf.compat.v2.summary API due to missing TensorBoard installation.\n",
      "WARNING:root:Limited tf.compat.v2.summary API due to missing TensorBoard installation.\n",
      "WARNING:root:Limited tf.compat.v2.summary API due to missing TensorBoard installation.\n",
      "WARNING:root:Limited tf.compat.v2.summary API due to missing TensorBoard installation.\n",
      "WARNING:root:Limited tf.compat.v2.summary API due to missing TensorBoard installation.\n",
      "WARNING:root:Limited tf.summary API due to missing TensorBoard installation.\n"
     ]
    },
    {
     "name": "stdout",
     "output_type": "stream",
     "text": [
      "WARNING:tensorflow:From <ipython-input-8-4a3f57d5652e>:2: is_gpu_available (from tensorflow.python.framework.test_util) is deprecated and will be removed in a future version.\n",
      "Instructions for updating:\n",
      "Use `tf.config.list_physical_devices('GPU')` instead.\n"
     ]
    },
    {
     "name": "stderr",
     "output_type": "stream",
     "text": [
      "WARNING:tensorflow:From <ipython-input-8-4a3f57d5652e>:2: is_gpu_available (from tensorflow.python.framework.test_util) is deprecated and will be removed in a future version.\n",
      "Instructions for updating:\n",
      "Use `tf.config.list_physical_devices('GPU')` instead.\n"
     ]
    },
    {
     "data": {
      "text/plain": [
       "True"
      ]
     },
     "execution_count": 8,
     "metadata": {},
     "output_type": "execute_result"
    }
   ],
   "source": []
  },
  {
   "cell_type": "code",
   "execution_count": null,
   "metadata": {},
   "outputs": [],
   "source": []
  }
 ],
 "metadata": {
  "kernelspec": {
   "display_name": "Python 3",
   "language": "python",
   "name": "python3"
  },
  "language_info": {
   "codemirror_mode": {
    "name": "ipython",
    "version": 3
   },
   "file_extension": ".py",
   "mimetype": "text/x-python",
   "name": "python",
   "nbconvert_exporter": "python",
   "pygments_lexer": "ipython3",
   "version": "3.8.1"
  }
 },
 "nbformat": 4,
 "nbformat_minor": 4
}
